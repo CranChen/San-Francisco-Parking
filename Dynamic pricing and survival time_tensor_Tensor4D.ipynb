{
 "cells": [
  {
   "cell_type": "markdown",
   "metadata": {},
   "source": [
    "< img src=\"logo.png\" alt=\"University of Illinois\" style=\"width: 50px;\"/>\n",
    "\n",
    "### Title ###\n",
    "by: Chuanqi Chen  \n",
    "by: Siyuan Teng \n",
    "* chuanqi2@illinois.edu\n",
    "* siyuant2@illinois.edu\n",
    "\n",
    "\n",
    "Project director: Richard Sowers\n",
    "* <r-sowers@illinois.edu>\n",
    "* <https://publish.illinois.edu/r-sowers/>\n",
    "\n",
    "Copyright 2019 University of Illinois Board of Trustees. All Rights Reserved. Licensed under the MIT license\n",
    "\n",
    "### Explanation###\n",
    "4D Array of Occupancy by Street_Block, Date, Time and Price.  "
   ]
  },
  {
   "cell_type": "code",
   "execution_count": null,
   "metadata": {},
   "outputs": [],
   "source": [
    "import glob\n",
    "import numpy as np\n",
    "import pandas as pd\n",
    "import pickle\n",
    "from datetime import datetime\n",
    "import time"
   ]
  },
  {
   "cell_type": "code",
   "execution_count": null,
   "metadata": {},
   "outputs": [],
   "source": [
    "\n",
    "df = pd.read_pickle(\"D:/myPython/data/parking_overall.p\")\n",
    "\n",
    "# Pre Test:    Total Observations = 3515680\n",
    "len(df[\"STREET_BLOCK\"].unique()) # 301\n",
    "len(df[\"DATE\"].unique())         # 730\n",
    "# Time                           # 16\n"
   ]
  },
  {
   "cell_type": "code",
   "execution_count": null,
   "metadata": {},
   "outputs": [],
   "source": [
    "\n",
    "# Hourly_Price\n",
    "df[\"Total_Hour\"] = (df['SESSION_END_DT'] - df['SESSION_START_DT']) / np.timedelta64(1, 'h')\n",
    "Start_Time_In_Hour = df.SESSION_START_DT.dt.round('h').astype(str)\n",
    "df[\"Start_Time_Only_Hour\"] = Start_Time_In_Hour.str.split(\" \", n=1, expand=True)[1] # Time Axis by Dataset\n",
    "\n",
    "# Filter from 6am to 9pm\n",
    "df = df[ (\"05:30:00\"<=df[\"Start_Time_Only_Hour\"]) & (df[\"Start_Time_Only_Hour\"]<=\"21:30:00\") ]\n",
    "\n",
    "by_SbDtTime = df.groupby([\"STREET_BLOCK\", \"DATE\", \"Start_Time_Only_Hour\"]).sum()\n",
    "by_SbDtTime['Hourly_Rate'] = by_SbDtTime['NET_PAID_AMT'] / by_SbDtTime['Total_Hour']\n",
    "\n",
    "# Use the Mechenism and Details of pivot() and stack()\n",
    "Price_stacked = by_SbDtTime.reset_index([\"STREET_BLOCK\", \"DATE\", \"Start_Time_Only_Hour\"]).\\\n",
    "    pivot_table(index=[\"STREET_BLOCK\", \"DATE\"], columns=\"Start_Time_Only_Hour\", values=\"Hourly_Rate\").\\\n",
    "    stack(dropna=False)   # !!!! Right\n"
   ]
  },
  {
   "cell_type": "code",
   "execution_count": null,
   "metadata": {},
   "outputs": [],
   "source": [
    "# Occupancy\n",
    "def number_of_cars_621(df):\n",
    "    time_in_out = pd.concat([df[\"SESSION_START_DT\"], df[\"SESSION_END_DT\"]], ignore_index=True).sort_values()\n",
    "    ones = pd.Series(np.where((time_in_out.index).isin(range(df.shape[0])), 1, -1), index=time_in_out)\n",
    "    ones_HourIdx = pd.Series( ones.index).astype(str).str.split(\" \", n=1, expand=True )[1]\n",
    "\n",
    "    # Filter from 6am to 9pm\n",
    "    new_ones = ones[ (\"05:30:00\" <= ones_HourIdx).values & (ones_HourIdx <= \"21:30:00\").values ]\n",
    "\n",
    "    if len(new_ones) == 0:  # In case of Empty Dataframe After Filter\n",
    "        return pd.Series(0, index=range(6,22))  # Must return Series to Match the form\n",
    "\n",
    "\n",
    "    new_ones_HourIdx = pd.Series(new_ones.index).astype(str).str.split(\" \", n=1, expand=True)[1]\n",
    "\n",
    "    occupancy_By_TimeTick = []   # Store Occupancy according to Time Tick\n",
    "    for Time_Tick in range(6,22):  # Time Axis by User\n",
    "        if Time_Tick <= 9:\n",
    "            Tick = \"0\" + str(Time_Tick) + \":30:00\"\n",
    "        else:\n",
    "            Tick = str(Time_Tick) + \":30:00\"\n",
    "        occupancy_By_TimeTick.append( new_ones[ (new_ones_HourIdx <= Tick).values ].sum() ) # Sum \"ones\" until Tick\n",
    "\n",
    "    return pd.Series(occupancy_By_TimeTick, index=range(6,22))\n",
    "\n",
    "occupancy_By_SbDtTime = df.groupby([\"STREET_BLOCK\", \"DATE\"]).apply(number_of_cars_621)\n",
    "\n",
    "# occupancy_By_SbDtTime = pd.read_csv(\"D:/myPython/data/occupancy_By_SbDtTime.csv\").set_index([\"STREET_BLOCK\", \"DATE\"])\n",
    "occupancy_stacked = occupancy_By_SbDtTime.stack(dropna=False)\n",
    "\n"
   ]
  },
  {
   "cell_type": "code",
   "execution_count": null,
   "metadata": {},
   "outputs": [],
   "source": [
    "# Final DataFrame\n",
    "Final_df = occupancy_stacked.reset_index(level=[0,1,2])\n",
    "Final_df.columns = [\"Street_Bolck\", \"Date\", \"Time\", \"Occupancy\"]\n",
    "Final_df[\"Price\"] = Price_stacked.values  # saved\n"
   ]
  },
  {
   "cell_type": "code",
   "execution_count": null,
   "metadata": {},
   "outputs": [],
   "source": [
    "# Make the Date Same\n",
    "Final_df_stacked =   Final_df.pivot_table(index=\"Street_Bolck\", columns=[\"Date\", \"Time\"], values=[\"Occupancy\", \"Price\"]).\\\n",
    "    stack([\"Date\",\"Time\"],dropna=False)\n",
    "\n",
    "tensor_frame = Final_df_stacked.reset_index([\"Street_Bolck\", \"Date\", \"Time\"])  # Saved  3515680 obs\n"
   ]
  },
  {
   "cell_type": "code",
   "execution_count": null,
   "metadata": {},
   "outputs": [],
   "source": [
    "# Make the Price Same\n",
    "tensor_frame[\"Price\"][ (tensor_frame[\"Price\"]<=0) | (tensor_frame[\"Price\"]>=50) ] = np.nan\n",
    "tensor_frame[\"Price\"] = tensor_frame[\"Price\"].round()\n",
    "\n",
    "len(tensor_frame[\"Price\"].unique())\n",
    "\n",
    "# Choose \"01ST ST 200\", \"2011-04-01\", 6, NaN\n",
    "# to create a complete \"Real Dataframe Structure\"\n",
    "df_cell = pd.DataFrame({\"Street_Bolck\":[\"01ST ST 200\"]*51,\n",
    "                        \"Date\":[\"2011-04-01\"]*51,\n",
    "                        \"Time\":[6]*51,\n",
    "                        \"Occupancy\":[np.nan]*51,\n",
    "                        \"Price\":sorted(tensor_frame[\"Price\"].unique())})\n",
    "df_cell.iloc[0,3] = 0\n",
    "\n",
    "tensor_frame2_temp = pd.concat([df_cell, tensor_frame.drop(0)], ignore_index=True)\n",
    "\n",
    "tensor_frame2_temp[\"Price\"][ tensor_frame2_temp[\"Price\"].isna() ] = -1\n",
    "\n",
    "\n",
    "# This is Complete Final Data in the form of Series\n",
    "series_final = tensor_frame2_temp.pivot_table(index=[\"Street_Bolck\", \"Date\", \"Time\"], columns=\"Price\", values=\"Occupancy\", dropna=False).stack(dropna=False)\n"
   ]
  },
  {
   "cell_type": "code",
   "execution_count": null,
   "metadata": {},
   "outputs": [],
   "source": [
    "# Make 4D Array from \"series_final\"\n",
    "series_final.values.reshape(51, 16, 730, 301)\n"
   ]
  }
 ],
 "metadata": {
  "kernelspec": {
   "display_name": "Python 3",
   "language": "python",
   "name": "python3"
  },
  "language_info": {
   "codemirror_mode": {
    "name": "ipython",
    "version": 3
   },
   "file_extension": ".py",
   "mimetype": "text/x-python",
   "name": "python",
   "nbconvert_exporter": "python",
   "pygments_lexer": "ipython3",
   "version": "3.7.1"
  }
 },
 "nbformat": 4,
 "nbformat_minor": 2
}
